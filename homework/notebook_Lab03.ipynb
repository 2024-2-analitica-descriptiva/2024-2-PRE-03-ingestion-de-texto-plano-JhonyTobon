{
 "cells": [
  {
   "cell_type": "code",
   "execution_count": 29,
   "metadata": {},
   "outputs": [
    {
     "name": "stdout",
     "output_type": "stream",
     "text": [
      "    cluster  cantidad_de_palabras_clave  porcentaje_de_palabras_clave                                                                                                                                                                                                                                                                                                                     principales_palabras_clave\n",
      "0         1                         105                          15.9                                                             maximum power point tracking, fuzzy-logic based control, photo voltaic (pv), photo-voltaic system, differential evolution algorithm, evolutionary algorithm, double-fed induction generator (dfig), ant colony optimisation, photo voltaic array, firefly algorithm, partial shade\n",
      "1         2                         102                          15.4                                                      support vector machine, long short-term memory, back-propagation neural network, convolution neural network, speed wind prediction, energy consumption, wind power forecasting, extreme learning machine, recurrent-neural-network (rnn), radial basis function (rbf) networks, wind farm\n",
      "2         3                          89                          13.4                                                                                                                                        smart grid, wind power, reinforcement learning, energy management, energy efficiency, solar energy, deep reinforcement learning, demand-response (dr), internet of things, energy harvester, q-learning\n",
      "3         4                          60                           9.1                                                                                    wind turbine, fault diagnosis, biodiesel, failure detection, response-surface methodology, condition monitoring, load forecasting, energy consumption forecast, anomalies detection, optimization-based algorithm, supervisory control and data acquisition\n",
      "4         5                          52                           7.9                                                                                         electric vehicle, lithium-ion batteries, state of charge, state of health, hybrid-electric vehicle, energy management strategies, energy management system, remaining useful life, battery management system, transfer learning, hybrid energy storage\n",
      "5         6                          51                           7.7                                                         particle swarm optimization, distribute generation, solar irradiance, artificial bee colonies, energy storage systems, bat algorithm, gravitational search algorithm, distributed system, multi-objective swarm optimization (mopso), optimal power-flow (opf), load-frequency control\n",
      "6         7                          42                           6.3                                                          multi-objective optimization, energy storage, economic dispatch, non-dominated sorting genetic algorithm, sensitive analysis, hybrid renewable energy source, plug-in electric vehicle, combined-heat and power, multi-objective genetic algorithm, unit-commitment, dc-dc converters\n",
      "7         8                          38                           5.7                                                                                                genetic algorithm, demand-side management, energy-saving, hybrid electric system (hes), wind turbine blade, data-driven modelling, simulated annealing, solar forecasting, geographic information system, renewable energy system, cogeneration\n",
      "8         9                          35                           5.3                                                                                                  anfis, global solar irradiance, solar irradiance forecast, genetic programing, islanding detection, expert system, distributed networks, evolutionary computation, wavelet-based neural network, root mean square errors, virtual power plant\n",
      "9        10                          27                           4.1                                                                                           micro grid, multi-agent systems, distributed energy resource, batteries energy storage system, dc micro grid, pitch-control, droop control, hybrid ac/dc microgrid, voltage regulation, superconducting magnetic energy storage, distributed-control\n",
      "10       11                          22                           3.3                                                                                                                                                                                                     hydrogen, biochar, biomass, biogas, microbial fuel cell, gasification, biofuel, ethanol, engine performance, pyrolysis, anaerobic digester\n",
      "11       12                          22                           3.3  state of charge (soc) estimation, radial basis function, short-term load forecasting, computational fluid dynamics, generalized-regression neural network, monte-carlo simulation, multiple linear regression, power generation, nonlinear auto-regressive exogenous (narx) model neural networks, surrogate model, extreme gradient boosting\n",
      "12       13                          17                           2.6                                                                                                                pem fuel cell, solid-oxide fuel cell, deep-belief networks, energy optimisation, particles-size distributions, biomass gasification, exergy, battery management, hydrogen production, numeric simulation, system-identification\n"
     ]
    }
   ],
   "source": [
    "import pandas as pd\n",
    "\n",
    "with open('../files/input/clusters_report.txt', 'r', encoding='utf-8') as file:\n",
    "    data = file.readlines()\n",
    "\n",
    "data=[x.replace('\\n','') for x in data]\n",
    "\n",
    "lines = []\n",
    "for line in data:\n",
    "    if not line.startswith('---') and line.strip():\n",
    "        lines.append(line)\n",
    "lines = [' '.join(line.split()) for line in lines]\n",
    "separated_lines =[]\n",
    "current_line = ''\n",
    "for line in lines [2:]:\n",
    "    line = line.strip()\n",
    "    if line [0].isdigit():\n",
    "        if current_line:\n",
    "            separated_lines.append(current_line)\n",
    "        current_line = line\n",
    "    else:\n",
    "        current_line += ' ' + line\n",
    "if current_line:\n",
    "    separated_lines.append(current_line)\n",
    "\n",
    "data_extracted = []\n",
    "\n",
    "for line in separated_lines:\n",
    "    parts = line.split()\n",
    "\n",
    "    cluster = int(parts[0])\n",
    "    quantity = int(parts[1])\n",
    "    percentage_str = parts[2].replace(',','.')\n",
    "    percentage = float(percentage_str.replace(\"%\", \"\"))\n",
    "    keywords = ' '.join(parts[3:]).strip()\n",
    "    keywords = ', '.join([keyword.strip() for keyword in keywords.split(',')])\n",
    "    keywords = keywords.replace('%', '').strip()\n",
    "    keywords = keywords.replace('.', '')\n",
    "    \n",
    "    data_extracted.append({\n",
    "        'cluster': cluster,\n",
    "        'cantidad_de_palabras_clave': quantity,\n",
    "        'porcentaje_de_palabras_clave': percentage,\n",
    "        'principales_palabras_clave': keywords\n",
    "    })\n",
    "\n",
    "df = pd.DataFrame(data_extracted)\n",
    "print(df.to_string())"
   ]
  }
 ],
 "metadata": {
  "kernelspec": {
   "display_name": ".venv",
   "language": "python",
   "name": "python3"
  },
  "language_info": {
   "codemirror_mode": {
    "name": "ipython",
    "version": 3
   },
   "file_extension": ".py",
   "mimetype": "text/x-python",
   "name": "python",
   "nbconvert_exporter": "python",
   "pygments_lexer": "ipython3",
   "version": "3.10.9"
  }
 },
 "nbformat": 4,
 "nbformat_minor": 2
}
